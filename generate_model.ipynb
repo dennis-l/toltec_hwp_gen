{
 "cells": [
  {
   "cell_type": "code",
   "execution_count": 1,
   "metadata": {},
   "outputs": [],
   "source": [
    "import hwp_generate as hg"
   ]
  },
  {
   "cell_type": "code",
   "execution_count": 2,
   "metadata": {},
   "outputs": [],
   "source": [
    "low_avgs = {\n",
    "    'min_GHz': 128, 'max_GHz': 170,\n",
    "    'Tx_C':  0.985658,\n",
    "    'Rx_C':  0.00716651,\n",
    "    'Abs_C': 0.00717574,\n",
    "\n",
    "    'Tx_L':  0.932995,\n",
    "    'Rx_L':  0.0152067,\n",
    "    'Abs_L': 0.051798\n",
    "}\n",
    "mid_avgs = {\n",
    "    'min_GHz': 195, 'max_GHz': 244,\n",
    "    'Tx_C':  0.985658,\n",
    "    'Rx_C':  0.00716651,\n",
    "    'Abs_C': 0.00717574,\n",
    "\n",
    "    'Tx_L':  0.932995,\n",
    "    'Rx_L':  0.0152067,\n",
    "    'Abs_L': 0.051798\n",
    "}\n",
    "high_avgs = {\n",
    "    'min_GHz': 245, 'max_GHz': 310,\n",
    "    'Tx_C':  0.985658,\n",
    "    'Rx_C':  0.00716651,\n",
    "    'Abs_C': 0.00717574,\n",
    "\n",
    "    'Tx_L':  0.932995,\n",
    "    'Rx_L':  0.0152067,\n",
    "    'Abs_L': 0.051798   \n",
    "}\n",
    "band_avgs = {'low': low_avgs, 'mid': mid_avgs, 'high': high_avgs}"
   ]
  },
  {
   "cell_type": "code",
   "execution_count": 3,
   "metadata": {},
   "outputs": [],
   "source": [
    "hg.generate_hwp_model(band_avgs)"
   ]
  },
  {
   "cell_type": "code",
   "execution_count": 5,
   "metadata": {},
   "outputs": [
    {
     "name": "stdout",
     "output_type": "stream",
     "text": [
      ",Capacitive axis,,,Inductive axis,,,,,,auto-generated-hwp,,,,Temperature (K),\r\n",
      "Freq,Tx_C,Rx_C,Abs_C,Tx_L,Rx_L,Abs_L,DPh,45d X-Pol,Model:,autogen_toltec_hwp,,,,emitted,reflected,\r\n",
      "10,0.0,0.0,0.0,0.0,0.0,0.0,251.06786,-7.0777609,,nC=X,,,,290,45,\r\n",
      "11,0.0,0.0,0.0,0.0,0.0,0.0,247.54163,-7.1567758,,nL=X,,,,290,45,\r\n",
      "12,0.0,0.0,0.0,0.0,0.0,0.0244.12638,-7.2096205,,,,,,290,45,\r\n",
      "13,0.0,0.0,0.0,0.0,0.0,0.0244.12638,-7.2096205,,,,,,290,45,\r\n",
      "14,0.0,0.0,0.0,0.0,0.0,0.0244.12638,-7.2096205,,,,,,290,45,\r\n",
      "15,0.0,0.0,0.0,0.0,0.0,0.0244.12638,-7.2096205,,,,,,290,45,\r\n",
      "16,0.0,0.0,0.0,0.0,0.0,0.0244.12638,-7.2096205,,,,,,290,45,\r\n",
      "17,0.0,0.0,0.0,0.0,0.0,0.0244.12638,-7.2096205,,,,,,290,45,\r\n"
     ]
    }
   ],
   "source": [
    "! head custom_hwp_model.csv"
   ]
  }
 ],
 "metadata": {
  "kernelspec": {
   "display_name": "Python 3",
   "language": "python",
   "name": "python3"
  },
  "language_info": {
   "codemirror_mode": {
    "name": "ipython",
    "version": 3
   },
   "file_extension": ".py",
   "mimetype": "text/x-python",
   "name": "python",
   "nbconvert_exporter": "python",
   "pygments_lexer": "ipython3",
   "version": "3.7.5"
  }
 },
 "nbformat": 4,
 "nbformat_minor": 2
}
